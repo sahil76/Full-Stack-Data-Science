{
 "cells": [
  {
   "cell_type": "markdown",
   "id": "e6f06797",
   "metadata": {},
   "source": [
    "## Python Basic Assignment 4\n",
    "\n",
    "### 10 Feb 2022"
   ]
  },
  {
   "cell_type": "markdown",
   "id": "a9bb6353",
   "metadata": {},
   "source": [
    "### 1. What exactly is []?"
   ]
  },
  {
   "cell_type": "raw",
   "id": "8b060d65",
   "metadata": {},
   "source": [
    "\"[]\" indicates to an empty list."
   ]
  },
  {
   "cell_type": "markdown",
   "id": "a9e2d2fb",
   "metadata": {},
   "source": [
    "### 2. In a list of values stored in a variable called spam, how would you assign the value &#39;hello&#39; as thethird value? (Assume [2, 4, 6, 8, 10] are in spam.)"
   ]
  },
  {
   "cell_type": "code",
   "execution_count": null,
   "id": "0f27066b",
   "metadata": {},
   "outputs": [],
   "source": [
    "spam = [2,4,6,8,10]\n",
    "\n",
    "# For assigning the third value in the list spam we can use the list method insert()\n",
    "\n",
    "spam.insert(2, \"hello\")"
   ]
  },
  {
   "cell_type": "markdown",
   "id": "1dcfdfc6",
   "metadata": {},
   "source": [
    "### Let&#39;s pretend the spam includes the list [&#39;a&#39;, &#39;b&#39;, &#39;c&#39;, &#39;d&#39;] for the next three queries."
   ]
  },
  {
   "cell_type": "markdown",
   "id": "ccb6e3ab",
   "metadata": {},
   "source": [
    "### 3. What is the value of spam[int(int(&#39;3&#39; * 2) / 11)]?"
   ]
  },
  {
   "cell_type": "code",
   "execution_count": null,
   "id": "ddd77610",
   "metadata": {},
   "outputs": [],
   "source": [
    "spam = ['a', 'b', 'c', 'd']"
   ]
  },
  {
   "cell_type": "code",
   "execution_count": null,
   "id": "b37fdc88",
   "metadata": {},
   "outputs": [],
   "source": [
    "spam[int(int('3' * 2)/11)]"
   ]
  },
  {
   "cell_type": "raw",
   "id": "0b872159",
   "metadata": {},
   "source": [
    "The value of the expression under spam[] will be 3 so spam[3] is 'd'"
   ]
  },
  {
   "cell_type": "markdown",
   "id": "0d9e3f30",
   "metadata": {},
   "source": [
    "### 4. What is the value of spam[-1]?"
   ]
  },
  {
   "cell_type": "code",
   "execution_count": null,
   "id": "0f3ce8fc",
   "metadata": {},
   "outputs": [],
   "source": [
    "# We are indexing on the basis of the last element so spam[-1] will be 'd'\n",
    "spam[-1]"
   ]
  },
  {
   "cell_type": "markdown",
   "id": "a3f7a9bb",
   "metadata": {},
   "source": [
    "### 5. What is the value of spam[:2]?"
   ]
  },
  {
   "cell_type": "code",
   "execution_count": null,
   "id": "5443afa0",
   "metadata": {},
   "outputs": [],
   "source": [
    "# Here we are indexing the first two elements.\n",
    "spam[:2]\n",
    "\n",
    "# Return -> ['a', 'b']"
   ]
  },
  {
   "cell_type": "markdown",
   "id": "f620951d",
   "metadata": {},
   "source": [
    "### Let&#39;s pretend bacon has the list [3.14, &#39;cat,&#39; 11, &#39;cat,&#39; True] for the next three questions.\n",
    "### 6. What is the value of bacon.index(&#39;cat&#39;)?"
   ]
  },
  {
   "cell_type": "raw",
   "id": "73e540fc",
   "metadata": {},
   "source": [
    "bacon.index('cat') will give -> 1"
   ]
  },
  {
   "cell_type": "markdown",
   "id": "8ed9fa8a",
   "metadata": {},
   "source": [
    "### 7. How does bacon.append(99) change the look of the list value in bacon?"
   ]
  },
  {
   "cell_type": "raw",
   "id": "b7bfcf77",
   "metadata": {},
   "source": [
    "bacon.append(99) will give -> [3.14, 'cat', 11, 'cat', True, 99]"
   ]
  },
  {
   "cell_type": "markdown",
   "id": "5381b5af",
   "metadata": {},
   "source": [
    "### 8. How does bacon.remove(&#39;cat&#39;) change the look of the list in bacon?"
   ]
  },
  {
   "cell_type": "raw",
   "id": "b892614a",
   "metadata": {},
   "source": [
    "bacon.remove('cat') will remove the first occurence of 'cat' in the list\n",
    "But the second occurence will be there as it is :\n",
    "\n",
    "[3.14, 11, 'cat', True]"
   ]
  },
  {
   "cell_type": "markdown",
   "id": "0bb15c9f",
   "metadata": {},
   "source": [
    "### 9. What are the list concatenation and list replication operators?"
   ]
  },
  {
   "cell_type": "raw",
   "id": "aacac701",
   "metadata": {},
   "source": [
    "For list concatenations we can use -> l1 + l2, where l1,l2 are lists\n",
    "or we can use l1.extend(l2)\n",
    "\n",
    "For list replications we can use -> l1.copy() where l1 is the list."
   ]
  },
  {
   "cell_type": "markdown",
   "id": "22cd4ff5",
   "metadata": {},
   "source": [
    "### 10. What is difference between the list methods append() and insert()?"
   ]
  },
  {
   "cell_type": "raw",
   "id": "fd86f105",
   "metadata": {},
   "source": [
    "In append() the new element which we want to add in the existing list will be added in the last i.e. it will be assigned a new index at the end of the list. Suppose that we have a list [1,2,3,4] and want to append 5 so the new list will be -> [1,2,3,4,5]\n",
    "\n",
    "> l1 = [1,2,3,4]\n",
    "> l1.append(5)\n",
    "> [1,2,3,4,5]\n",
    "\n",
    "But in the same case above, let`s say that we have to add the element 5 at the index 2 so we can use insert() in that case:\n",
    "\n",
    "> l1 = [1,2,3,4]\n",
    "> l1.insert(1,5)\n",
    "> [1,5,2,3,4]"
   ]
  },
  {
   "cell_type": "markdown",
   "id": "6c6b2e5c",
   "metadata": {},
   "source": [
    "### 11. What are the two methods for removing items from a list?"
   ]
  },
  {
   "cell_type": "raw",
   "id": "391d6738",
   "metadata": {},
   "source": [
    "Two methods to remove items from a list:\n",
    "\n",
    "1. remove \n",
    "2. pop\n",
    "\n",
    "We can also use clear() to remove all elements."
   ]
  },
  {
   "cell_type": "markdown",
   "id": "d0ed6aa9",
   "metadata": {},
   "source": [
    "### 12. Describe how list values and string values are identical."
   ]
  },
  {
   "cell_type": "raw",
   "id": "dea033e3",
   "metadata": {},
   "source": [
    "List values and string values are identical as both are iterable objects.\n",
    "\n",
    "We can iterate list values as well as string values."
   ]
  },
  {
   "cell_type": "markdown",
   "id": "24cc55c4",
   "metadata": {},
   "source": [
    "### 13. What&#39;s the difference between tuples and lists?"
   ]
  },
  {
   "cell_type": "raw",
   "id": "622c9d87",
   "metadata": {},
   "source": [
    "-> Tuples are not iterable whereas lists are iterable.\n",
    "-> We cannot add any new elements into a tuple but that is not the case with lists.\n",
    "-> The elements in tuples can`t be removed or changed or updated or inserted but all these things are possible in lists\n",
    "-> Basically lists are mutable whereas tuples are not."
   ]
  },
  {
   "cell_type": "markdown",
   "id": "32c0cc0b",
   "metadata": {},
   "source": [
    "### 14. How do you type a tuple value that only contains the integer 42?"
   ]
  },
  {
   "cell_type": "raw",
   "id": "eeddda28",
   "metadata": {},
   "source": [
    "By using a parentheses () while assigning a variable to the interger we can define a tuple value as:\n",
    "\n",
    "Example : \n",
    "\n",
    "t1 = (42)"
   ]
  },
  {
   "cell_type": "markdown",
   "id": "0e416934",
   "metadata": {},
   "source": [
    "### 15. How do you get a list value&#39;s tuple form? How do you get a tuple value&#39;s list form?"
   ]
  },
  {
   "cell_type": "code",
   "execution_count": null,
   "id": "50aac3ee",
   "metadata": {},
   "outputs": [],
   "source": [
    "l1 = [1,2,3,4]\n",
    "\n",
    "l1 = tuple(l1)"
   ]
  },
  {
   "cell_type": "code",
   "execution_count": null,
   "id": "71ecddcb",
   "metadata": {},
   "outputs": [],
   "source": [
    "l1"
   ]
  },
  {
   "cell_type": "code",
   "execution_count": null,
   "id": "f8c94293",
   "metadata": {},
   "outputs": [],
   "source": [
    "t1 = (4,5,6,7)\n",
    "\n",
    "t1 = list(t1)"
   ]
  },
  {
   "cell_type": "code",
   "execution_count": null,
   "id": "c4beffca",
   "metadata": {},
   "outputs": [],
   "source": [
    "t1"
   ]
  },
  {
   "cell_type": "raw",
   "id": "333f78e7",
   "metadata": {},
   "source": [
    "For this we can directly use the keywords list or tuple to change a particular data type into the other one."
   ]
  },
  {
   "cell_type": "markdown",
   "id": "06b8ad28",
   "metadata": {},
   "source": [
    "### 16. Variables that &quot;contain&quot; list values are not necessarily lists themselves. Instead, what do they contain?"
   ]
  },
  {
   "cell_type": "code",
   "execution_count": null,
   "id": "e2c51920",
   "metadata": {},
   "outputs": [],
   "source": [
    "l1 = [1,2,3,4,5]\n",
    "l2 = l1"
   ]
  },
  {
   "cell_type": "code",
   "execution_count": null,
   "id": "206f6d1b",
   "metadata": {},
   "outputs": [],
   "source": [
    "type(l2)"
   ]
  },
  {
   "cell_type": "raw",
   "id": "21ffd871",
   "metadata": {},
   "source": [
    "Don`t know this."
   ]
  },
  {
   "cell_type": "markdown",
   "id": "0da1ad78",
   "metadata": {},
   "source": [
    "### 17. How do you distinguish between copy.copy() and copy.deepcopy()?"
   ]
  },
  {
   "cell_type": "raw",
   "id": "dc5604f0",
   "metadata": {},
   "source": [
    "Deepcopy:\n",
    "\n",
    "-> Deep copy is a process in which the copying process occurs recursively, it means first constructing a new collection object and then recursively populating it with copies of child objects found in the original.\n",
    "\n",
    "-> It means that any changes made to a copy of object do not reflect in the original object.\n",
    "\n",
    "-> Implemented in python using deepcopy() function.\n",
    "\n",
    "Shallowcopy:\n",
    "\n",
    "-> A shallow copy means constructing a new collection object and then populating it with refernces to the child object found in the original. The copying process does not recurse and therefore won`t create copy of the child objects themselves. \n",
    "\n",
    "-> In case of shallow copy, a reference of object is copied in other object. \n",
    "\n",
    "-> It means that any changes made to a copy of object do reflect in the original object.\n",
    "\n",
    "-> Implemented in python by copy() function.\n",
    "\n",
    "## The above details are from geeksforgeeks ##\n",
    "\n",
    "\n",
    "Basically deepcopy() is creating a new list with recursive copying of the elements in the original list such that if we change anything in the new copied list, it will not impact the original list whereas copy() will not act like this and instead will impact the original list in case of any changes in the new copied list.\n"
   ]
  },
  {
   "cell_type": "code",
   "execution_count": null,
   "id": "a2ca1915",
   "metadata": {},
   "outputs": [],
   "source": []
  }
 ],
 "metadata": {
  "kernelspec": {
   "display_name": "Python 3",
   "language": "python",
   "name": "python3"
  },
  "language_info": {
   "codemirror_mode": {
    "name": "ipython",
    "version": 3
   },
   "file_extension": ".py",
   "mimetype": "text/x-python",
   "name": "python",
   "nbconvert_exporter": "python",
   "pygments_lexer": "ipython3",
   "version": "3.7.4"
  }
 },
 "nbformat": 4,
 "nbformat_minor": 5
}
