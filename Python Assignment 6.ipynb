{
 "cells": [
  {
   "cell_type": "markdown",
   "id": "feff9ae7",
   "metadata": {},
   "source": [
    "## Python Basic Assignment 6\n",
    "\n",
    "### 11 Feb 2022"
   ]
  },
  {
   "cell_type": "markdown",
   "id": "abcee199",
   "metadata": {},
   "source": [
    "### 1. What are escape characters, and how do you use them?"
   ]
  },
  {
   "cell_type": "raw",
   "id": "a92079f3",
   "metadata": {},
   "source": [
    "Escape sequence is a combination of characters usually prefixed with an escape character, that has a non literal character interpretation. \n",
    "\n",
    "Escape sequence interpretation is done, when a backslash is encountered within a string. After the encounter of a backslash, any following character would be looked upon the predefined inputs. Such as '\\n' is used for a new line.\n",
    "\n",
    "These escape characters are used with a backslash (\\) before them.\n",
    "\n",
    "Some of the most used escape characters:\n",
    "\n",
    "-> \\' : Single quote\n",
    "-> \\\" : Double quote\n",
    "-> \\\\ : backslash\n",
    "-> \\n : new line\n",
    "-> \\r : carriage return \n",
    "-> \\t : horizontal tab\n",
    "-> \\b : backspace\n",
    "-> \\f : form feed \n",
    "-> \\v : vertical tab\n",
    "-> \\0 : Null character\n",
    "-> \\N{name} : Unicode character database named lookup"
   ]
  },
  {
   "cell_type": "markdown",
   "id": "bdf1e13d",
   "metadata": {},
   "source": [
    "### 2. What do the escape characters n and t stand for?"
   ]
  },
  {
   "cell_type": "raw",
   "id": "81658fa1",
   "metadata": {},
   "source": [
    "-> '\\t' : horizontal tab\n",
    "\n",
    "-> '\\n' : new line"
   ]
  },
  {
   "cell_type": "markdown",
   "id": "ccebb765",
   "metadata": {},
   "source": [
    "### 3. What is the way to include backslash characters in a string?"
   ]
  },
  {
   "cell_type": "raw",
   "id": "e813b624",
   "metadata": {},
   "source": [
    "We can diretly use backslash characters inside a string, \n",
    "\n",
    "print(\"This is a new car, \\n Nano\")"
   ]
  },
  {
   "cell_type": "markdown",
   "id": "29f743ba",
   "metadata": {},
   "source": [
    "### 4. The string &quot;Howl&#39;s Moving Castle&quot; is a correct value. Why isn&#39;t the single quote character in the word Howl&#39;s not escaped a problem?"
   ]
  },
  {
   "cell_type": "raw",
   "id": "331200ac",
   "metadata": {},
   "source": [
    "This particular string doesn`t encoutered an error as it is passed within double quotes, if the same was passed under single quotes then it would have given an error."
   ]
  },
  {
   "cell_type": "markdown",
   "id": "bb007b8c",
   "metadata": {},
   "source": [
    "### 5. How do you write a string of newlines if you don&#39;t want to use the n character?"
   ]
  },
  {
   "cell_type": "raw",
   "id": "a39f5027",
   "metadata": {},
   "source": [
    "We can use '\\n' inside a string to specify a new line."
   ]
  },
  {
   "cell_type": "markdown",
   "id": "e5cc9fa6",
   "metadata": {},
   "source": [
    "### 6. What are the values of the given expressions?\n",
    "### &#39;Hello, world!&#39;[1]\n",
    "### &#39;Hello, world!&#39;[0:5]\n",
    "### &#39;Hello, world!&#39;[:5]\n",
    "### &#39;Hello, world!&#39;[3:]"
   ]
  },
  {
   "cell_type": "raw",
   "id": "2f4d5f22",
   "metadata": {},
   "source": [
    "-> 'Hello, World!'[1] will give the second element in string : 'e'\n",
    "\n",
    "-> 'Hello, World!'[0:5] will give the first five elements : 'Hello'\n",
    "\n",
    "-> 'Hello, World!'[:5] will be same above as above : 'Hello'\n",
    "\n",
    "-> 'Hello, World!'[3:] all the elements after first 3 : 'lo, World!'"
   ]
  },
  {
   "cell_type": "markdown",
   "id": "dd8033e8",
   "metadata": {},
   "source": [
    "### 7. What are the values of the following expressions?\n",
    "### &#39;Hello&#39;.upper()\n",
    "### &#39;Hello&#39;.upper().isupper()\n",
    "### &#39;Hello&#39;.upper().lower()"
   ]
  },
  {
   "cell_type": "raw",
   "id": "b2768c1f",
   "metadata": {},
   "source": [
    "-> 'Hello'.upper() : 'HELLO'\n",
    "\n",
    "-> 'Hello'.upper().isupper() : True\n",
    "\n",
    "-> 'Hello'.upper().islower() : False"
   ]
  },
  {
   "cell_type": "markdown",
   "id": "0d596859",
   "metadata": {},
   "source": [
    "### 8. What are the values of the following expressions?\n",
    "### &#39;Remember, remember, the fifth of July.&#39;.split()\n",
    "### &#39;-&#39;.join(&#39;There can only one.&#39;.split())"
   ]
  },
  {
   "cell_type": "code",
   "execution_count": null,
   "id": "b896d01c",
   "metadata": {},
   "outputs": [],
   "source": [
    "# The following expression will split all the particular elements in the \n",
    "# string into a list\n",
    "\n",
    "'Remember, remember, the fifth of July.'.split()\n",
    "\n",
    "# out -> ['Remember,', 'remember,', 'the', 'fifth', 'of', 'July.']"
   ]
  },
  {
   "cell_type": "code",
   "execution_count": null,
   "id": "a537fde1",
   "metadata": {},
   "outputs": [],
   "source": [
    "'-'.join('There can only one.'.split())\n",
    "\n",
    "# out -> 'There-can-only-one.'"
   ]
  },
  {
   "cell_type": "markdown",
   "id": "d2d95cc2",
   "metadata": {},
   "source": [
    "### 9. What are the methods for right-justifying, left-justifying, and centering a string?"
   ]
  },
  {
   "cell_type": "raw",
   "id": "c96d5d6d",
   "metadata": {},
   "source": [
    "right-justifying -> str.rjust()\n",
    "\n",
    "left-justifying -> str.ljust()\n",
    "\n",
    "centering -> str.center()"
   ]
  },
  {
   "cell_type": "markdown",
   "id": "877126c8",
   "metadata": {},
   "source": [
    "### 10. What is the best way to remove whitespace characters from the start or end?"
   ]
  },
  {
   "cell_type": "raw",
   "id": "f291c062",
   "metadata": {},
   "source": [
    "To strip whitespace characters from the start or end of a string we can use the function : \n",
    "\n",
    "str.strip()"
   ]
  }
 ],
 "metadata": {
  "kernelspec": {
   "display_name": "Python 3",
   "language": "python",
   "name": "python3"
  },
  "language_info": {
   "codemirror_mode": {
    "name": "ipython",
    "version": 3
   },
   "file_extension": ".py",
   "mimetype": "text/x-python",
   "name": "python",
   "nbconvert_exporter": "python",
   "pygments_lexer": "ipython3",
   "version": "3.7.4"
  }
 },
 "nbformat": 4,
 "nbformat_minor": 5
}
