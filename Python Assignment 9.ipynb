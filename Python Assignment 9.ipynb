{
 "cells": [
  {
   "cell_type": "markdown",
   "id": "9611e6f9",
   "metadata": {},
   "source": [
    "## Python Assignment 9\n",
    "\n",
    "### 19 Feb 2022\n",
    "\n",
    "#### The responses are in Raw format, please download the file."
   ]
  },
  {
   "cell_type": "markdown",
   "id": "841b3f4a",
   "metadata": {},
   "source": [
    "### 1. To what does a relative path refer?"
   ]
  },
  {
   "cell_type": "raw",
   "id": "dd845f9f",
   "metadata": {},
   "source": [
    "-> The 'os.path.relpath(path, start = os.curdir)' method in Python is used to get a relative filepath to the given path either from the current working directory or from the given directory.\n",
    "\n",
    "-> The relative path for given path will be computed with respect to the directory indicated by the parameter start in the above module.\n",
    "\n",
    "-> The default value of this parameter 'start' in the above module is os.curdir which is a constant string used by the operating system to refer to the current directory.\n",
    "\n",
    "-> This method returns a string value which represents the relative path to given path from the start directory.\n",
    "\n",
    "-->> So Basically relative path doesn`t change the current directory which the python uses. But if we want to use some other directory for some particular sets of code then we can use the relative path module so that the main directory is not changed."
   ]
  },
  {
   "cell_type": "markdown",
   "id": "e36a7f0c",
   "metadata": {},
   "source": [
    "### 2. What does an absolute path start with your operating system?"
   ]
  },
  {
   "cell_type": "raw",
   "id": "eae153d7",
   "metadata": {},
   "source": [
    "The absolute path in python for the operating system will start from the path where the python IDE is opened.\n",
    "\n",
    "If some predefined path/folder is chosen for opening the IDE then that will be the absolute path.\n",
    "\n",
    "Or if we directly open python then the path/folder where the software is downloaded will become the absolute path.\n",
    "\n",
    "We can use os.getcd() to determine the current working directory.\n",
    "And os.path.abspath(path = \"\") to get the absolute path for the path given as parameter in this module."
   ]
  },
  {
   "cell_type": "markdown",
   "id": "8ac0d13b",
   "metadata": {},
   "source": [
    "### 3. What do the functions os.getcwd() and os.chdir() do?"
   ]
  },
  {
   "cell_type": "raw",
   "id": "f2b30a13",
   "metadata": {},
   "source": [
    "-> os.getcwd(): To get the location of the current working directory we use this method, When the files are called only by their name, python assumes that it starts in the CWD which means that name only reference will be successful only if the file is in the python`s cwd.\n",
    "\n",
    "-> os.chdir(): To change the current working directory this method is used. This method changes the CWD to a specified path. It only takes a single argument as a new directory path.\n",
    "\n",
    "The CWD is the folder in which the python script is operating."
   ]
  },
  {
   "cell_type": "markdown",
   "id": "c4b0f6bc",
   "metadata": {},
   "source": [
    "### 4. What are the . and .. folders?"
   ]
  },
  {
   "cell_type": "raw",
   "id": "8c77bbd1",
   "metadata": {},
   "source": [
    "The '.' folder will give us the last folder name used while defining the path whereas '..' will give us the main directory in which all the folders are created as the path.\n",
    "\n",
    "-> A single dot meand that the module or package referenced is in the same directory as the current location.\n",
    "\n",
    "-> Two dots mean that it is in the parent directory of the current location in other words the directory above."
   ]
  },
  {
   "cell_type": "markdown",
   "id": "a7998b37",
   "metadata": {},
   "source": [
    "### 5. In C:\\bacon\\eggs\\spam.txt, which part is the dir name, and which part is the base name?"
   ]
  },
  {
   "cell_type": "raw",
   "id": "b4a0d150",
   "metadata": {},
   "source": [
    "-> For directory name we use the module: os.path.dirname(path)\n",
    "\n",
    "The directory name in the above path will be : 'C:\\bacon\\eggs\\'\n",
    "\n",
    "-> For base name we use the module: os.path.basename()\n",
    "\n",
    "The base name here will be : 'spam.txt'\n",
    "\n",
    "basename refers to the file which we have specified in the path."
   ]
  },
  {
   "cell_type": "markdown",
   "id": "a4f57795",
   "metadata": {},
   "source": [
    "### 6. What are the three “mode” arguments that can be passed to the open() function?"
   ]
  },
  {
   "cell_type": "raw",
   "id": "b5f60f5e",
   "metadata": {},
   "source": [
    "The three mode arguments that can be used with open() function:\n",
    "\n",
    "1. Read - 'r', used only to read the file. Passed as default if no parameter is supplied. If no such file exists it gives an error.\n",
    "\n",
    "2. Write - 'w', used to write on/over the file. If the file with the supplied name doesn`t exists it creates one.\n",
    "\n",
    "3. Append - 'a', used to append/add content to an existing file. If no such file exists, it creates a new one.\n",
    "\n",
    "There are other modes also available such as:\n",
    "\n",
    "4. 'x': used to create a specific file.\n",
    "\n",
    "5. 'b': used if user wants to handle the file in binary format. Generaly used to handle image files.\n",
    "\n",
    "6. 't': used to handle files in text mode."
   ]
  },
  {
   "cell_type": "markdown",
   "id": "2b2ce0e4",
   "metadata": {},
   "source": [
    "### 7. What happens if an existing file is opened in write mode?"
   ]
  },
  {
   "cell_type": "raw",
   "id": "19c9a5e3",
   "metadata": {},
   "source": [
    "If an existing file is opened in write mode then whatever we write in that file will be added over the data already present in the file.\n",
    "\n",
    "Basically the cursor for writing in such a file will be at the start of the file which will surpass the already present data."
   ]
  },
  {
   "cell_type": "markdown",
   "id": "b1d05699",
   "metadata": {},
   "source": [
    "### 8. How do you tell the difference between read() and readlines()?"
   ]
  },
  {
   "cell_type": "raw",
   "id": "68ccd709",
   "metadata": {},
   "source": [
    "-> read() reads the file as an individual string, and so allows relatively easy file-wide manipulations, such as a file wide regex search or substitution.\n",
    "\n",
    "-> while readlines() is used to read all the lines at a single go and then return them as each line a string element in a list. This function can be used for small files, as it reads the whole file content to the memory, then split it into seperate lines."
   ]
  },
  {
   "cell_type": "markdown",
   "id": "ba410e1e",
   "metadata": {},
   "source": [
    "### 9. What data structure does a shelf value resemble?"
   ]
  },
  {
   "cell_type": "raw",
   "id": "296a0386",
   "metadata": {},
   "source": [
    "A shelf value resembles a dictionary value. \n",
    "\n",
    "It has keys and values."
   ]
  }
 ],
 "metadata": {
  "kernelspec": {
   "display_name": "Python 3",
   "language": "python",
   "name": "python3"
  },
  "language_info": {
   "codemirror_mode": {
    "name": "ipython",
    "version": 3
   },
   "file_extension": ".py",
   "mimetype": "text/x-python",
   "name": "python",
   "nbconvert_exporter": "python",
   "pygments_lexer": "ipython3",
   "version": "3.7.4"
  }
 },
 "nbformat": 4,
 "nbformat_minor": 5
}
