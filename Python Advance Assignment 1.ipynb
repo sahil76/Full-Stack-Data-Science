{
 "cells": [
  {
   "cell_type": "markdown",
   "id": "472147b5",
   "metadata": {},
   "source": [
    "### Python Advance Assignment 1\n",
    "\n",
    "## 13 Feb 2022\n",
    "\n",
    "#### Note: The responses are in raw format. Please download the py file."
   ]
  },
  {
   "cell_type": "markdown",
   "id": "6f6fc1ca",
   "metadata": {},
   "source": [
    "### Q1. What is the purpose of Python&#39;s OOP?"
   ]
  },
  {
   "cell_type": "raw",
   "id": "776dbecb",
   "metadata": {},
   "source": [
    "In Python, Object Oriented Programming aka OOPs is a programming paradign that uses objects and classes in programming.\n",
    "\n",
    "The main purpose to use OOPs is to increase the reusability and robustness of the codes. In python programming or in general programming there are various programs which are reused again and again, so in that case if we have to use the same code, OOP are a great way to inorporate that as in this we define classes which are usabale by calling different objects for the same class.\n",
    "\n",
    "In a particular class we can define various modules or functions which are indispensable regarding that particular class."
   ]
  },
  {
   "cell_type": "markdown",
   "id": "eb8e4acb",
   "metadata": {},
   "source": [
    "### Q2. Where does an inheritance search look for an attribute?"
   ]
  },
  {
   "cell_type": "raw",
   "id": "4d910bd3",
   "metadata": {},
   "source": [
    "-> Inheritance is the capability of one class to derive or inherit the properties from another class. \n",
    "\n",
    "-> The class that derives properties is called the derived class or child class and the class from which the properties are being derived is called the base class or the parent class.\n",
    "\n",
    "-> So to answer this question we can say that inheritance looks for an attribute in the parent class as it is deriving its properties from the parent class.\n",
    "\n",
    "-> It provided the reusability of a code. We don`t have to write the same code again and again. Also, it allows us to add more features to a class without modifying it.\n",
    "\n",
    "-> It is transitive in nature, i.e. is class B inherits from class A then all the subclasses of class B will automatically inherit from class A."
   ]
  },
  {
   "cell_type": "markdown",
   "id": "be3152f3",
   "metadata": {},
   "source": [
    "### Q3. How do you distinguish between a class object and an instance object?"
   ]
  },
  {
   "cell_type": "raw",
   "id": "923afc1d",
   "metadata": {},
   "source": [
    "-> Instance is an object that belongs to a class. For instance, list is a class in python. When we create a list, we have an instance of the list class.\n",
    "\n",
    "-> Instances variables are for data, unique to each instance and class variables are for attributes and methods shared by all instance of the class. \n",
    "\n",
    "-> Instance variables are variables whose value is assigned inside a constructor or method with self whereas class variables are variables whose value is assigned in the class."
   ]
  },
  {
   "cell_type": "markdown",
   "id": "9e8dcb81",
   "metadata": {},
   "source": [
    "### Q4. What makes the first argument in a class’s method function special?"
   ]
  },
  {
   "cell_type": "raw",
   "id": "9e67cf92",
   "metadata": {},
   "source": [
    "-> The first argument in a class`s method function is 'self' which signifies that this method is referring to the class in which we are making the method.\n",
    "\n",
    "-> This 'self' is called as pointer.\n",
    "\n",
    "-> Class methods must have this 'self' as an extra FIRST parameter in the method definition.\n",
    "\n",
    "-> We do not give a value for this parameter when we call the method, python itself gives that.\n",
    "\n",
    "-> If we have a method that takes no argument, then we still have to have this argument."
   ]
  },
  {
   "cell_type": "markdown",
   "id": "55056a25",
   "metadata": {},
   "source": [
    "### Q5. What is the purpose of the __init__ method?"
   ]
  },
  {
   "cell_type": "raw",
   "id": "bb7ef966",
   "metadata": {},
   "source": [
    "-> 'init' methos is a constructor we use while defining a class.\n",
    "\n",
    "-> Constructors are used to initialize the object`s state. Like methods, a constructor also contains a collection of statements that are executed at the time of object creation.\n",
    "\n",
    "-> It runs as soon as an object of a class is instantiated.\n",
    "\n",
    "-> The method is useful to do any initialization we want to do with our object.\n",
    "\n",
    "-> If we want to initialize any varibales while creating an object, that feature is provided by init method."
   ]
  },
  {
   "cell_type": "markdown",
   "id": "a0e35f52",
   "metadata": {},
   "source": [
    "### Q6. What is the process for creating a class instance?"
   ]
  },
  {
   "cell_type": "raw",
   "id": "291c9537",
   "metadata": {},
   "source": [
    "To create instances of a class, we have to call the class using the class name and pass in whatever arguments its __init__ method accepts.\n",
    "\n",
    "Instance : An individual object of a certain class. An object 'k8' of a class 'kite' is an instance of the class 'kite'.\n",
    "\n",
    "Suppose we create an object in a class such as:\n",
    "\n",
    "k8 = \"sahil\"\n",
    "\n",
    "then, this is a class variable whose value is shared among all instances of this class."
   ]
  },
  {
   "cell_type": "markdown",
   "id": "f159a6c0",
   "metadata": {},
   "source": [
    "### Q7. What is the process for creating a class?"
   ]
  },
  {
   "cell_type": "raw",
   "id": "7422e201",
   "metadata": {},
   "source": [
    "To create a class we use the following process:\n",
    "\n",
    "1. Use the keyword class before the class name:\n",
    "\n",
    "    Example: class car(a1, b1)\n",
    "    \n",
    "2. Here a1 and b1 are the parameters of the class.\n",
    "\n",
    "3. Now creating objects under the class\n",
    "    \n",
    "    Example: def __init__(self, a1, b1):\n",
    "                self.a1 = a1\n",
    "                self.b1 = b1\n",
    "                \n",
    "Here we have created a basic class and an object under that."
   ]
  },
  {
   "cell_type": "markdown",
   "id": "2858a051",
   "metadata": {},
   "source": [
    "### Q8. How would you define the superclasses of a class?"
   ]
  },
  {
   "cell_type": "raw",
   "id": "2cb9e9f1",
   "metadata": {},
   "source": [
    "The class from which a class inherits is called the parent or superclass.\n",
    "A class which inherits a superclass is called a subclass, also called a child class.\n",
    "Superclasses are sometimes called ancestors as well."
   ]
  },
  {
   "cell_type": "code",
   "execution_count": null,
   "id": "ad707057",
   "metadata": {},
   "outputs": [],
   "source": []
  }
 ],
 "metadata": {
  "kernelspec": {
   "display_name": "Python 3",
   "language": "python",
   "name": "python3"
  },
  "language_info": {
   "codemirror_mode": {
    "name": "ipython",
    "version": 3
   },
   "file_extension": ".py",
   "mimetype": "text/x-python",
   "name": "python",
   "nbconvert_exporter": "python",
   "pygments_lexer": "ipython3",
   "version": "3.7.4"
  }
 },
 "nbformat": 4,
 "nbformat_minor": 5
}
