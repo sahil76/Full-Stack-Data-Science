{
 "cells": [
  {
   "cell_type": "markdown",
   "metadata": {},
   "source": [
    "# Python Programming Assignment 2\n",
    "\n",
    "## Sahil Jindal\n",
    "\n",
    "## 23-12-2021"
   ]
  },
  {
   "cell_type": "markdown",
   "metadata": {},
   "source": [
    "#### 1. Write a Python program to convert kilometers to miles?"
   ]
  },
  {
   "cell_type": "code",
   "execution_count": 10,
   "metadata": {},
   "outputs": [
    {
     "name": "stdout",
     "output_type": "stream",
     "text": [
      "Kilometers to Miles, Enter kilometers: 56\n",
      "\n",
      "1 km = 0.621371 miles\n",
      "\n",
      "56 kilometers equal to 34.796776 Miles\n"
     ]
    }
   ],
   "source": [
    "inp1 = int(input(\"Kilometers to Miles, Enter kilometers: \"))\n",
    "\n",
    "print(\"\\r\")\n",
    "\n",
    "print(\"1 km = 0.621371 miles\")\n",
    "\n",
    "print(\"\\r\")\n",
    "\n",
    "print(inp1, \"kilometers equal to\", inp1*0.621371, \"Miles\")"
   ]
  },
  {
   "cell_type": "markdown",
   "metadata": {},
   "source": [
    "#### 2. Write a Python program to convert Celsius to Fahrenheit?"
   ]
  },
  {
   "cell_type": "code",
   "execution_count": 11,
   "metadata": {},
   "outputs": [
    {
     "name": "stdout",
     "output_type": "stream",
     "text": [
      "Celsius to Fahrenheit, Enter Celsius: 15\n",
      "\n",
      "0 `C = (0 * 9/5) + 32 `F\n",
      "\n",
      "15 Celsius equal to 59.0 Fahrenheit\n"
     ]
    }
   ],
   "source": [
    "inp_1 = int(input(\"Celsius to Fahrenheit, Enter Celsius: \"))\n",
    "\n",
    "print(\"\\r\")\n",
    "\n",
    "print(\"0 `C = (0 * 9/5) + 32 `F\")\n",
    "\n",
    "print(\"\\r\")\n",
    "\n",
    "print(inp_1, \"Celsius equal to\", (inp_1 * 9/5) + 32, \"Fahrenheit\")"
   ]
  },
  {
   "cell_type": "markdown",
   "metadata": {},
   "source": [
    "#### 3.Write a Python program to display calendar?"
   ]
  },
  {
   "cell_type": "code",
   "execution_count": 13,
   "metadata": {},
   "outputs": [],
   "source": [
    "import calendar"
   ]
  },
  {
   "cell_type": "code",
   "execution_count": 15,
   "metadata": {},
   "outputs": [
    {
     "name": "stdout",
     "output_type": "stream",
     "text": [
      "                                  2021\n",
      "\n",
      "      January                   February                   March\n",
      "Mo Tu We Th Fr Sa Su      Mo Tu We Th Fr Sa Su      Mo Tu We Th Fr Sa Su\n",
      "             1  2  3       1  2  3  4  5  6  7       1  2  3  4  5  6  7\n",
      " 4  5  6  7  8  9 10       8  9 10 11 12 13 14       8  9 10 11 12 13 14\n",
      "11 12 13 14 15 16 17      15 16 17 18 19 20 21      15 16 17 18 19 20 21\n",
      "18 19 20 21 22 23 24      22 23 24 25 26 27 28      22 23 24 25 26 27 28\n",
      "25 26 27 28 29 30 31                                29 30 31\n",
      "\n",
      "       April                      May                       June\n",
      "Mo Tu We Th Fr Sa Su      Mo Tu We Th Fr Sa Su      Mo Tu We Th Fr Sa Su\n",
      "          1  2  3  4                      1  2          1  2  3  4  5  6\n",
      " 5  6  7  8  9 10 11       3  4  5  6  7  8  9       7  8  9 10 11 12 13\n",
      "12 13 14 15 16 17 18      10 11 12 13 14 15 16      14 15 16 17 18 19 20\n",
      "19 20 21 22 23 24 25      17 18 19 20 21 22 23      21 22 23 24 25 26 27\n",
      "26 27 28 29 30            24 25 26 27 28 29 30      28 29 30\n",
      "                          31\n",
      "\n",
      "        July                     August                  September\n",
      "Mo Tu We Th Fr Sa Su      Mo Tu We Th Fr Sa Su      Mo Tu We Th Fr Sa Su\n",
      "          1  2  3  4                         1             1  2  3  4  5\n",
      " 5  6  7  8  9 10 11       2  3  4  5  6  7  8       6  7  8  9 10 11 12\n",
      "12 13 14 15 16 17 18       9 10 11 12 13 14 15      13 14 15 16 17 18 19\n",
      "19 20 21 22 23 24 25      16 17 18 19 20 21 22      20 21 22 23 24 25 26\n",
      "26 27 28 29 30 31         23 24 25 26 27 28 29      27 28 29 30\n",
      "                          30 31\n",
      "\n",
      "      October                   November                  December\n",
      "Mo Tu We Th Fr Sa Su      Mo Tu We Th Fr Sa Su      Mo Tu We Th Fr Sa Su\n",
      "             1  2  3       1  2  3  4  5  6  7             1  2  3  4  5\n",
      " 4  5  6  7  8  9 10       8  9 10 11 12 13 14       6  7  8  9 10 11 12\n",
      "11 12 13 14 15 16 17      15 16 17 18 19 20 21      13 14 15 16 17 18 19\n",
      "18 19 20 21 22 23 24      22 23 24 25 26 27 28      20 21 22 23 24 25 26\n",
      "25 26 27 28 29 30 31      29 30                     27 28 29 30 31\n",
      "\n"
     ]
    }
   ],
   "source": [
    "print(calendar.calendar(2021))"
   ]
  },
  {
   "cell_type": "markdown",
   "metadata": {},
   "source": [
    "#### 4. Write a Python program to solve quadratic equation?"
   ]
  },
  {
   "cell_type": "code",
   "execution_count": 41,
   "metadata": {},
   "outputs": [
    {
     "name": "stdout",
     "output_type": "stream",
     "text": [
      "Quadratic Equation is of the form : ax^2 + bx + c \n",
      "\n",
      "Here we have to solve for x. There would be two values for x\n",
      "\n",
      "Please enter values for a, b and c.\n",
      "\n",
      "Enter a: 5\n",
      "Enter b: 2\n",
      "Enter c: 1\n",
      "\n",
      "Formula for solving x:  x = (-b + sqrt(b**2 - 4*a*c))/(2*a) and \n",
      " \t\t\tx = (-b - sqrt(b**2 - 4*a*c))/(2*a)\n",
      "x = (-0.2+0.4j)\n",
      "\n",
      "x = (-0.2-0.4j)\n"
     ]
    }
   ],
   "source": [
    "import math as m\n",
    "import cmath as cm\n",
    "\n",
    "print(\"Quadratic Equation is of the form : ax^2 + bx + c \")\n",
    "print(\"\\r\")\n",
    "print(\"Here we have to solve for x. There would be two values for x\")\n",
    "print(\"\\r\")\n",
    "\n",
    "print(\"Please enter values for a, b and c.\")\n",
    "print(\"\\r\")\n",
    "\n",
    "a = int(input(\"Enter a: \"))\n",
    "b = int(input(\"Enter b: \"))\n",
    "c = int(input(\"Enter c: \"))\n",
    "\n",
    "print(\"\\r\")\n",
    "\n",
    "print(\"Formula for solving x:  x = (-b + sqrt(b**2 - 4*a*c))/(2*a) and \\r\\n \\t\\t\\tx = (-b - sqrt(b**2 - 4*a*c))/(2*a)\")\n",
    "\n",
    "z1 = (b**2 - 4*a*c)\n",
    "\n",
    "if z1 < 0:\n",
    "    y1 = cm.sqrt(b**2 - 4*a*c)\n",
    "else:\n",
    "    y1 = m.sqrt(b**2 - 4*a*c) \n",
    "\n",
    "\n",
    "x1 = (-b + y1)/(2*a)\n",
    "x2 = (-b - y1)/(2*a)\n",
    "\n",
    "print(\"x =\", x1)\n",
    "print(\"\\r\")\n",
    "print(\"x =\", x2)"
   ]
  },
  {
   "cell_type": "markdown",
   "metadata": {},
   "source": [
    "#### 5. Write a Python program to swap two variables without temp variable?"
   ]
  },
  {
   "cell_type": "code",
   "execution_count": 42,
   "metadata": {},
   "outputs": [
    {
     "name": "stdout",
     "output_type": "stream",
     "text": [
      "89\n",
      "78\n"
     ]
    }
   ],
   "source": [
    "j = 78\n",
    "\n",
    "k = 89\n",
    "\n",
    "j = j + k\n",
    "\n",
    "k = j - k\n",
    "\n",
    "j = j - k\n",
    "\n",
    "print(j)\n",
    "print(k)"
   ]
  },
  {
   "cell_type": "code",
   "execution_count": 43,
   "metadata": {},
   "outputs": [
    {
     "data": {
      "text/plain": [
       "15"
      ]
     },
     "execution_count": 43,
     "metadata": {},
     "output_type": "execute_result"
    }
   ],
   "source": [
    "10^5"
   ]
  },
  {
   "cell_type": "code",
   "execution_count": null,
   "metadata": {},
   "outputs": [],
   "source": []
  }
 ],
 "metadata": {
  "kernelspec": {
   "display_name": "Python 3",
   "language": "python",
   "name": "python3"
  },
  "language_info": {
   "codemirror_mode": {
    "name": "ipython",
    "version": 3
   },
   "file_extension": ".py",
   "mimetype": "text/x-python",
   "name": "python",
   "nbconvert_exporter": "python",
   "pygments_lexer": "ipython3",
   "version": "3.7.4"
  }
 },
 "nbformat": 4,
 "nbformat_minor": 2
}
