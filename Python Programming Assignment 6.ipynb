{
 "cells": [
  {
   "cell_type": "markdown",
   "metadata": {},
   "source": [
    "# Python Programming Assignment 6\n",
    "\n",
    "## Sahil Jindal\n",
    "\n",
    "## 12-01-2022"
   ]
  },
  {
   "cell_type": "markdown",
   "metadata": {},
   "source": [
    "#### 1. Write a Python Program to Display Fibonacci Sequence Using Recursion?"
   ]
  },
  {
   "cell_type": "code",
   "execution_count": null,
   "metadata": {},
   "outputs": [],
   "source": [
    "def rec_fibonacci(m):\n",
    "    ''' Fibonacci sequence using recursion'''\n",
    "    \n",
    "    if m <= 1:\n",
    "        return m\n",
    "    else:\n",
    "        return rec_fibonacci(m-1) + rec_fibonacci(m-2)\n",
    "    \n",
    "m = int(input(\"Enter the number till which you want the Fibonacci Series:\"))\n",
    "\n",
    "l = [] # Creating an empty list for the fibonacci series\n",
    "\n",
    "for i in range(m):\n",
    "    l.append(rec_fibonacci(i))\n",
    "    \n",
    "print(l)"
   ]
  },
  {
   "cell_type": "markdown",
   "metadata": {},
   "source": [
    "#### 2. Write a Python Program to Find Factorial of Number Using Recursion?"
   ]
  },
  {
   "cell_type": "code",
   "execution_count": null,
   "metadata": {},
   "outputs": [],
   "source": [
    "def rec_factorial(n):\n",
    "    '''Factorial of a number using Recursion'''\n",
    "    \n",
    "    if n < 1:\n",
    "        print(\"Entered number n is negative.\")\n",
    "    elif n == 1:\n",
    "        return n\n",
    "    else:\n",
    "        return n * rec_factorial(n-1)\n",
    "    \n"
   ]
  },
  {
   "cell_type": "code",
   "execution_count": null,
   "metadata": {},
   "outputs": [],
   "source": [
    "rec_factorial(5)"
   ]
  },
  {
   "cell_type": "markdown",
   "metadata": {},
   "source": [
    "#### 3. Write a Python Program to calculate your Body Mass Index?"
   ]
  },
  {
   "cell_type": "code",
   "execution_count": null,
   "metadata": {},
   "outputs": [],
   "source": [
    "# BMI Calculator\n",
    "\n",
    "weight = float(input(\"Please Enter weight in kgs : \"))\n",
    "print(\"\\r\")\n",
    "height = float(input(\"Please Enter height in meters : \"))\n",
    "print(\"\\r\")\n",
    "\n",
    "if (weight or height) <= 0:\n",
    "    print(\"Please enter valid weight and height\")\n",
    "    bmi = 0\n",
    "else:\n",
    "    bmi = weight/(height**2)\n",
    "\n",
    "if bmi == 0:\n",
    "    pass\n",
    "elif bmi <= 18.5:\n",
    "    print(\"You are Underweight as BMI is:\",bmi)\n",
    "elif bmi > 18.5 and bmi <= 24.9:\n",
    "    print(\"You have Normal Weight as BMI is:\",bmi)\n",
    "elif bmi > 24.9 and bmi <= 34.9:\n",
    "    print(\"You have Obesity Class 1 as BMI is:\",bmi)\n",
    "elif bmi > 34.9 and bmi <= 39.9:\n",
    "    print(\"You have Obesity Class 2 as BMI is:\",bmi)\n",
    "elif bmi > 39.9:\n",
    "    print(\"You have Obesity Class 3 as BMI is:\",bmi)"
   ]
  },
  {
   "cell_type": "markdown",
   "metadata": {},
   "source": [
    "#### 4. Write a Python Program to calculate the natural logarithm of any number?"
   ]
  },
  {
   "cell_type": "code",
   "execution_count": null,
   "metadata": {},
   "outputs": [],
   "source": [
    "from numpy import log as ln\n",
    "\n",
    "p = float(input(\"Number to find log for: \"))\n",
    "\n",
    "ln(p)"
   ]
  },
  {
   "cell_type": "markdown",
   "metadata": {},
   "source": [
    "#### 5. Write a Python Program for cube sum of first n natural numbers?"
   ]
  },
  {
   "cell_type": "code",
   "execution_count": null,
   "metadata": {},
   "outputs": [],
   "source": [
    "def cube_sum(n):\n",
    "    ''' To find the cube sum of first n natural numbers'''\n",
    "    \n",
    "    k = 0\n",
    "    k1 = []\n",
    "    \n",
    "    if n <= 0:\n",
    "        print(\"Enter a valid n.\")\n",
    "    else:\n",
    "        for i in range(1,n+1):\n",
    "            k += i**3\n",
    "            k1.append(i**3)\n",
    "            \n",
    "    return k, k1"
   ]
  },
  {
   "cell_type": "code",
   "execution_count": null,
   "metadata": {},
   "outputs": [],
   "source": [
    "cube_sum(10)"
   ]
  }
 ],
 "metadata": {
  "kernelspec": {
   "display_name": "Python 3",
   "language": "python",
   "name": "python3"
  },
  "language_info": {
   "codemirror_mode": {
    "name": "ipython",
    "version": 3
   },
   "file_extension": ".py",
   "mimetype": "text/x-python",
   "name": "python",
   "nbconvert_exporter": "python",
   "pygments_lexer": "ipython3",
   "version": "3.7.4"
  }
 },
 "nbformat": 4,
 "nbformat_minor": 2
}
