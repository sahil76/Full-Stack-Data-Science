{
 "cells": [
  {
   "cell_type": "markdown",
   "metadata": {},
   "source": [
    "# Python Programming Assignment 1\n",
    "\n",
    "## Sahil Jindal\n",
    "\n",
    "## 23-12-2021"
   ]
  },
  {
   "cell_type": "markdown",
   "metadata": {},
   "source": [
    "#### 1. Write a Python program to print \"Hello Python\" ?"
   ]
  },
  {
   "cell_type": "code",
   "execution_count": 1,
   "metadata": {},
   "outputs": [
    {
     "name": "stdout",
     "output_type": "stream",
     "text": [
      "Hello Python\n"
     ]
    }
   ],
   "source": [
    "print(\"Hello Python\")"
   ]
  },
  {
   "cell_type": "markdown",
   "metadata": {},
   "source": [
    "#### 2. Write a Python program to do arithmetical operations addition and division.?"
   ]
  },
  {
   "cell_type": "code",
   "execution_count": 9,
   "metadata": {},
   "outputs": [
    {
     "name": "stdout",
     "output_type": "stream",
     "text": [
      "Enter Variable a:45\n",
      "Enter Variable b:45\n",
      "Addition or Division: ds\n",
      "Please choose between:\n",
      " ['Addition', 'addition', 'add', 'Add', 'Division', 'division', 'Divide', 'divide']\n"
     ]
    }
   ],
   "source": [
    "a = int(input(\"Enter Variable a:\"))\n",
    "\n",
    "b = int(input(\"Enter Variable b:\"))\n",
    "\n",
    "inp = input(\"Addition or Division: \")\n",
    "\n",
    "t1 = [\"Addition\", \"addition\", \"add\", \"Add\"]\n",
    "t2 = [\"Division\", \"division\", \"Divide\", \"divide\"]\n",
    "\n",
    "if inp in t1:\n",
    "    print(\"a + b =\", a+b)\n",
    "elif inp in t2:\n",
    "    if a == 0 or b == 0:\n",
    "        print(\"Please enter variables again, no provision for 0\")\n",
    "    else:\n",
    "        print(\"a / b =\", a/b)\n",
    "        print(\"b / a =\", b/a)\n",
    "else:\n",
    "    print(\"Please choose between:\\n\", t1+t2)\n"
   ]
  },
  {
   "cell_type": "markdown",
   "metadata": {},
   "source": [
    "#### 3. Write a Python program to find the area of a triangle?"
   ]
  },
  {
   "cell_type": "code",
   "execution_count": 12,
   "metadata": {},
   "outputs": [
    {
     "name": "stdout",
     "output_type": "stream",
     "text": [
      "Enter the Base of the Triangle:3\n",
      "Enter the Height of the Triangle:4\n",
      "Area of Triangle =  6.0\n"
     ]
    }
   ],
   "source": [
    "# Area of a triangle = 1/2 * Base * Height\n",
    "\n",
    "base = int(input(\"Enter the Base of the Triangle:\"))\n",
    "\n",
    "height = int(input(\"Enter the Height of the Triangle:\"))\n",
    "\n",
    "if base == 0 or height == 0:\n",
    "    print(\"No provision for 0, please enter a valid input.\")\n",
    "else:\n",
    "    print(\"Area of Triangle = \", 0.5 * base * height)"
   ]
  },
  {
   "cell_type": "markdown",
   "metadata": {},
   "source": [
    "#### 4. Write a Python program to swap two variables?"
   ]
  },
  {
   "cell_type": "code",
   "execution_count": 18,
   "metadata": {},
   "outputs": [
    {
     "name": "stdout",
     "output_type": "stream",
     "text": [
      "harry\n",
      "sam\n"
     ]
    }
   ],
   "source": [
    "a = \"sam\"\n",
    "\n",
    "b = \"harry\"\n",
    "\n",
    "c = \"\" # Creating a Temporary variable\n",
    "\n",
    "c = a\n",
    "a = b\n",
    "b = c\n",
    "\n",
    "print(a)\n",
    "print(b)"
   ]
  },
  {
   "cell_type": "markdown",
   "metadata": {},
   "source": [
    "#### 5. Write a Python program to generate a random number?"
   ]
  },
  {
   "cell_type": "code",
   "execution_count": 20,
   "metadata": {},
   "outputs": [],
   "source": [
    "import random"
   ]
  },
  {
   "cell_type": "code",
   "execution_count": 22,
   "metadata": {},
   "outputs": [
    {
     "data": {
      "text/plain": [
       "2"
      ]
     },
     "execution_count": 22,
     "metadata": {},
     "output_type": "execute_result"
    }
   ],
   "source": [
    "random.randint(0,9) # gives a random number between 0 and 9"
   ]
  },
  {
   "cell_type": "code",
   "execution_count": 25,
   "metadata": {},
   "outputs": [
    {
     "data": {
      "text/plain": [
       "0.15503971929873284"
      ]
     },
     "execution_count": 25,
     "metadata": {},
     "output_type": "execute_result"
    }
   ],
   "source": [
    "random.random() # gives a random float number between 0 and 1"
   ]
  },
  {
   "cell_type": "code",
   "execution_count": null,
   "metadata": {},
   "outputs": [],
   "source": []
  }
 ],
 "metadata": {
  "kernelspec": {
   "display_name": "Python 3",
   "language": "python",
   "name": "python3"
  },
  "language_info": {
   "codemirror_mode": {
    "name": "ipython",
    "version": 3
   },
   "file_extension": ".py",
   "mimetype": "text/x-python",
   "name": "python",
   "nbconvert_exporter": "python",
   "pygments_lexer": "ipython3",
   "version": "3.7.4"
  }
 },
 "nbformat": 4,
 "nbformat_minor": 2
}
