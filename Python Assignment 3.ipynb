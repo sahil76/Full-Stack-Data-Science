{
 "cells": [
  {
   "cell_type": "markdown",
   "id": "cc24f5df",
   "metadata": {},
   "source": [
    "## Python Basic Assignment 3\n",
    "\n",
    "### 10 Feb 2022"
   ]
  },
  {
   "cell_type": "markdown",
   "id": "f47a7459",
   "metadata": {},
   "source": [
    "### 1. Why are functions advantageous to have in your programs?"
   ]
  },
  {
   "cell_type": "raw",
   "id": "c56a5fc2",
   "metadata": {},
   "source": [
    "-> Functions provide reusablity in the program.\n",
    "\n",
    "-> Suppose if we have to do a particular act any number of times then we will have to write the same chunk of code again and again but if we are using a function then we can process the same task with a single statement.\n",
    "\n",
    "-> In the same way we can also create our own functions in python."
   ]
  },
  {
   "cell_type": "markdown",
   "id": "bfea1477",
   "metadata": {},
   "source": [
    "### 2. When does the code in a function run: when it&#39;s specified or when it&#39;s called?"
   ]
  },
  {
   "cell_type": "raw",
   "id": "f86d9b9b",
   "metadata": {},
   "source": [
    "The code in a function will run only when we are calling that particular function, other than that they will not run.\n",
    "\n",
    "Suppose that we have defined a function :\n",
    "\n",
    "def fun1(a,b):\n",
    "    c = a+b\n",
    "    return c\n",
    "    \n",
    "Here the code c = a+b will run only when we use this function fun1."
   ]
  },
  {
   "cell_type": "markdown",
   "id": "f9b1b38c",
   "metadata": {},
   "source": [
    "### 3. What statement creates a function?"
   ]
  },
  {
   "cell_type": "raw",
   "id": "e14eca23",
   "metadata": {},
   "source": [
    "\"def\" statement is used to create a function in python."
   ]
  },
  {
   "cell_type": "markdown",
   "id": "eb6e50cf",
   "metadata": {},
   "source": [
    "### 4. What is the difference between a function and a function call?"
   ]
  },
  {
   "cell_type": "raw",
   "id": "3e93411f",
   "metadata": {},
   "source": [
    "Function is just a statement or a variable name if we do not call it, but if we call a function then we will have to use parentheses with that and specify the parameters if any."
   ]
  },
  {
   "cell_type": "markdown",
   "id": "2dc6e926",
   "metadata": {},
   "source": [
    "### 5. How many global scopes are there in a Python program? How many local scopes?"
   ]
  },
  {
   "cell_type": "raw",
   "id": "d499d950",
   "metadata": {},
   "source": [
    "Global Scopes in Python:\n",
    "\n",
    "There is only one Global Python scope per program execution.\n",
    "This scope remains in existence until the program terminates and all its names are forgotten.\n",
    "Otherwise, the next time we will run the program, the names would remember their values from the previous run.\n",
    "\n",
    "Local Scopes in Python:\n",
    "\n",
    "The varibales which are defined in the functions are a local scope of the variable. These variables are defined in the function body.\n",
    "\n",
    "There can be any number of local scopes as these are defined in a program body and can be used and changed in a particular program.\n"
   ]
  },
  {
   "cell_type": "markdown",
   "id": "952299ae",
   "metadata": {},
   "source": [
    "### 6. What happens to variables in a local scope when the function call returns?"
   ]
  },
  {
   "cell_type": "raw",
   "id": "4b6a0766",
   "metadata": {},
   "source": [
    "When we call a particular function, all the variables defined under that function are local variables under local scope and these can`t be used once the function runs successfully."
   ]
  },
  {
   "cell_type": "markdown",
   "id": "bd6f4aa4",
   "metadata": {},
   "source": [
    "### 7. What is the concept of a return value? Is it possible to have a return value in an expression?"
   ]
  },
  {
   "cell_type": "raw",
   "id": "a6738087",
   "metadata": {},
   "source": [
    "When a function is called it returns some result which we intend to use.\n",
    "A return statement is used to end the execution of a function call and returns the result.\n",
    "\n",
    "A return value can be any one of the four variable types: handle, integer, object, or string.\n",
    "\n",
    "Reutrn value in an expression, No we can`t use return value in an expression."
   ]
  },
  {
   "cell_type": "markdown",
   "id": "ea0d66d0",
   "metadata": {},
   "source": [
    "### 8. If a function does not have a return statement, what is the return value of a call to that function?"
   ]
  },
  {
   "cell_type": "raw",
   "id": "887d39bc",
   "metadata": {},
   "source": [
    "If a function does not have a return statement then it will not return anything.\n",
    "\n",
    "Example: def fun2(a,b):\n",
    "             a*b\n",
    "\n",
    "This function will not return anything."
   ]
  },
  {
   "cell_type": "markdown",
   "id": "c7690a98",
   "metadata": {},
   "source": [
    "### 9. How do you make a function variable refer to the global variable?"
   ]
  },
  {
   "cell_type": "raw",
   "id": "dd923c87",
   "metadata": {},
   "source": [
    "For this we will have to use the keyword \"global\" before the variable name."
   ]
  },
  {
   "cell_type": "markdown",
   "id": "13cd6860",
   "metadata": {},
   "source": [
    "### 10. What is the data type of None?"
   ]
  },
  {
   "cell_type": "raw",
   "id": "121ccb8c",
   "metadata": {},
   "source": [
    "None is used to define a \"null\" value. It is not the same as an empty string, False, or a zero.\n",
    "\n",
    "It is a data type of the class NoneType object\n"
   ]
  },
  {
   "cell_type": "markdown",
   "id": "20cc8c3e",
   "metadata": {},
   "source": [
    "### 11. What does the sentence import areallyourpetsnamederic do?"
   ]
  },
  {
   "cell_type": "code",
   "execution_count": null,
   "id": "5193573a",
   "metadata": {},
   "outputs": [],
   "source": [
    "# Let`s see here only:\n",
    "\n",
    "import areallyourpetsnamederic"
   ]
  },
  {
   "cell_type": "raw",
   "id": "68de425f",
   "metadata": {},
   "source": [
    "Actually, it should import a dataset named as above but here it is showing an error."
   ]
  },
  {
   "cell_type": "markdown",
   "id": "b705e00f",
   "metadata": {},
   "source": [
    "### 12. If you had a bacon() feature in a spam module, what would you call it after importing spam?"
   ]
  },
  {
   "cell_type": "raw",
   "id": "4dac9320",
   "metadata": {},
   "source": [
    "spam.bacon()"
   ]
  },
  {
   "cell_type": "markdown",
   "id": "e60aae15",
   "metadata": {},
   "source": [
    "### 13. What can you do to save a programme from crashing if it encounters an error?"
   ]
  },
  {
   "cell_type": "raw",
   "id": "1eade4cf",
   "metadata": {},
   "source": [
    "We can use try and except statement for the same."
   ]
  },
  {
   "cell_type": "markdown",
   "id": "3947b30b",
   "metadata": {},
   "source": [
    "### 14. What is the purpose of the try clause? What is the purpose of the except clause?"
   ]
  },
  {
   "cell_type": "raw",
   "id": "56ea7725",
   "metadata": {},
   "source": [
    "Try clause runs the given chunk of programme codes and if python encounters an error then the code goes directly to the error without crashing.\n",
    "\n",
    "Except clause works when our try clause has given an error."
   ]
  },
  {
   "cell_type": "code",
   "execution_count": null,
   "id": "1108b96e",
   "metadata": {},
   "outputs": [],
   "source": []
  }
 ],
 "metadata": {
  "kernelspec": {
   "display_name": "Python 3",
   "language": "python",
   "name": "python3"
  },
  "language_info": {
   "codemirror_mode": {
    "name": "ipython",
    "version": 3
   },
   "file_extension": ".py",
   "mimetype": "text/x-python",
   "name": "python",
   "nbconvert_exporter": "python",
   "pygments_lexer": "ipython3",
   "version": "3.7.4"
  }
 },
 "nbformat": 4,
 "nbformat_minor": 5
}
