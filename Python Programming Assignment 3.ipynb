{
 "cells": [
  {
   "cell_type": "markdown",
   "metadata": {},
   "source": [
    "# Python Programming Assignment 3\n",
    "\n",
    "## Sahil Jindal\n",
    "\n",
    "## 29-12-2021"
   ]
  },
  {
   "cell_type": "markdown",
   "metadata": {},
   "source": [
    "#### 1. Write a Python Program to Check if a Number is Positive, Negative or Zero?"
   ]
  },
  {
   "cell_type": "code",
   "execution_count": null,
   "metadata": {},
   "outputs": [],
   "source": [
    "f = int(input(\"Enter a number:\"))\n",
    "\n",
    "if f > 0:\n",
    "    print(\"The number is Positive\")\n",
    "elif f < 0:\n",
    "    print(\"The number is Negative\")\n",
    "else:\n",
    "    print(\"The number is Zero\")"
   ]
  },
  {
   "cell_type": "code",
   "execution_count": null,
   "metadata": {},
   "outputs": [],
   "source": [
    "def fun1(n):\n",
    "    \n",
    "\"\"\" To decipher if the given number n is positive, negative or zero\"\"\"\n",
    "    \n",
    "    if type(n) != int:\n",
    "        print(\"Please enter a number\")\n",
    "    else:\n",
    "        if n > 0:\n",
    "            print(\"The number is Positive\")\n",
    "        elif f < 0:\n",
    "            print(\"The number is Negative\")\n",
    "        else:\n",
    "            print(\"The number is Zero\")"
   ]
  },
  {
   "cell_type": "code",
   "execution_count": null,
   "metadata": {},
   "outputs": [],
   "source": [
    "fun1(\"sahil\")"
   ]
  },
  {
   "cell_type": "markdown",
   "metadata": {},
   "source": [
    "#### 2. Write a Python Program to Check if a Number is Odd or Even?"
   ]
  },
  {
   "cell_type": "code",
   "execution_count": null,
   "metadata": {},
   "outputs": [],
   "source": [
    "j = int(input(\"Enter a number:\"))\n",
    "\n",
    "if j%2 == 0:\n",
    "    print(\"The Number is even\")\n",
    "else:\n",
    "    print(\"The Number is odd\")"
   ]
  },
  {
   "cell_type": "code",
   "execution_count": null,
   "metadata": {},
   "outputs": [],
   "source": [
    "def fun2(n):\n",
    "\n",
    "\"\"\" To decipher if the given number n is odd or even\"\"\"\n",
    "    \n",
    "    if type(n) != int:\n",
    "        print(\"Please enter a number\")\n",
    "    else:\n",
    "        if n%2 == 0:\n",
    "            print(\"The Number is even\")\n",
    "        else:\n",
    "            print(\"The Number is odd\")"
   ]
  },
  {
   "cell_type": "code",
   "execution_count": null,
   "metadata": {},
   "outputs": [],
   "source": [
    "fun2(4)"
   ]
  },
  {
   "cell_type": "markdown",
   "metadata": {},
   "source": [
    "#### 3. Write a Python Program to Check Leap Year?"
   ]
  },
  {
   "cell_type": "code",
   "execution_count": null,
   "metadata": {},
   "outputs": [],
   "source": [
    "import calendar"
   ]
  },
  {
   "cell_type": "code",
   "execution_count": null,
   "metadata": {},
   "outputs": [],
   "source": [
    "# The module is.leap() in the python package calendar can help us to check if a particular year is a leap year or not\n",
    "\n",
    "calendar.isleap(2021)"
   ]
  },
  {
   "cell_type": "markdown",
   "metadata": {},
   "source": [
    "#### 4. Write a Python Program to Check Prime Number?"
   ]
  },
  {
   "cell_type": "code",
   "execution_count": null,
   "metadata": {},
   "outputs": [],
   "source": [
    "from math import sqrt"
   ]
  },
  {
   "cell_type": "code",
   "execution_count": null,
   "metadata": {},
   "outputs": [],
   "source": [
    "int(sqrt(11))"
   ]
  },
  {
   "cell_type": "code",
   "execution_count": null,
   "metadata": {},
   "outputs": [],
   "source": [
    "k = int(input(\"Enter a number to check for prime number :\"))\n",
    "\n",
    "for i in range(2, int(sqrt(k)) + 1):\n",
    "    if k % i == 0:\n",
    "        print(\"The number is not  a prime number\")\n",
    "    else:\n",
    "        print(\"The number is a prime number\")\n",
    "        break"
   ]
  },
  {
   "cell_type": "code",
   "execution_count": null,
   "metadata": {},
   "outputs": [],
   "source": [
    "num = int(input(\"Enter a number to check for prime number :\"))\n",
    "\n",
    "flag = False\n",
    "\n",
    "if num > 1:\n",
    "    for i in range(2, num):\n",
    "        if num % i  == 0:\n",
    "            flag = True\n",
    "            break\n",
    "        \n",
    "if flag:\n",
    "    print(\"Not a prime number\")\n",
    "else:\n",
    "    print(\"A prime number\")"
   ]
  },
  {
   "cell_type": "markdown",
   "metadata": {},
   "source": [
    "#### 5. Write a Python Program to Print all Prime Numbers in an Interval of 1-10000?"
   ]
  },
  {
   "cell_type": "code",
   "execution_count": null,
   "metadata": {},
   "outputs": [],
   "source": [
    "p = []\n",
    "for i in range(1,10000):\n",
    "    for j in range(2, i):\n",
    "        if i % j == 0:\n",
    "            #print(i, \"is not a prime number\")\n",
    "            #p.append(i)\n",
    "            break\n",
    "    else:\n",
    "        p.append(i)"
   ]
  },
  {
   "cell_type": "code",
   "execution_count": null,
   "metadata": {},
   "outputs": [],
   "source": [
    "p"
   ]
  },
  {
   "cell_type": "code",
   "execution_count": null,
   "metadata": {},
   "outputs": [],
   "source": [
    "len(p)"
   ]
  },
  {
   "cell_type": "code",
   "execution_count": null,
   "metadata": {},
   "outputs": [],
   "source": []
  }
 ],
 "metadata": {
  "kernelspec": {
   "display_name": "Python 3",
   "language": "python",
   "name": "python3"
  },
  "language_info": {
   "codemirror_mode": {
    "name": "ipython",
    "version": 3
   },
   "file_extension": ".py",
   "mimetype": "text/x-python",
   "name": "python",
   "nbconvert_exporter": "python",
   "pygments_lexer": "ipython3",
   "version": "3.7.4"
  }
 },
 "nbformat": 4,
 "nbformat_minor": 2
}
