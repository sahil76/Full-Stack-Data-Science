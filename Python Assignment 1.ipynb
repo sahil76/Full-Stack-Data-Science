{
 "cells": [
  {
   "cell_type": "markdown",
   "metadata": {},
   "source": [
    "#### 1. In the below elements which of them are values or an expression? eg:- values can be integer or string and expressions will be mathematical operators."
   ]
  },
  {
   "cell_type": "raw",
   "metadata": {},
   "source": [
    "* - Mathematical Operator\n",
    "\n",
    "'hello' - String\n",
    "\n",
    "-87.8 - Floating point Integer\n",
    "\n",
    "- : Mathematical Operator\n",
    "\n",
    "/ - Mathematical Operator\n",
    "\n",
    "+ - Mathematical Operator\n",
    "\n",
    "6 - Integer"
   ]
  },
  {
   "cell_type": "markdown",
   "metadata": {},
   "source": [
    "#### 2. What is the difference between string and variable?"
   ]
  },
  {
   "cell_type": "raw",
   "metadata": {},
   "source": [
    "Strings - String are a type of data type which are used to refer to a character in Python. \"\" are used to refer to strings.\n",
    "          Anything passed under \"\" is taken to be a string.\n",
    "          \n",
    "Variables - Variables are anything whose values can vary as we assign new data to them.\n",
    "            Such as using the following expression:\n",
    "                                                        name = \"Sahil Jindal\"\n",
    "            In this expression \"name\" is a variable which can vary if further we assign something else to it.\n",
    "            \n",
    "The main difference between strings and variables is that we can use a variable to assign a string to it."
   ]
  },
  {
   "cell_type": "markdown",
   "metadata": {},
   "source": [
    "#### 3. Describe three different data types."
   ]
  },
  {
   "cell_type": "raw",
   "metadata": {},
   "source": [
    "Data Types:\n",
    "\n",
    "1. Integers - The numeric data is taken as integers in python and described as int. Example - 15,20,30,etc\n",
    "\n",
    "2. Floating point Numbers - The decimal point numeric values are floating point numbers. Example - 15.25, 35.85, etc\n",
    "\n",
    "3. Booleans - True and False are boolean data types. \n",
    "\n",
    "4. Strings - Strings are used to describe the characters in python. Example - \"name\", \"phone\", etc."
   ]
  },
  {
   "cell_type": "markdown",
   "metadata": {},
   "source": [
    "#### 4. What is an expression made up of? What do all expressions do?"
   ]
  },
  {
   "cell_type": "raw",
   "metadata": {},
   "source": [
    "Expressions are made up of different operators such as mathematical or integer or strings.\n",
    "\n",
    "Expressions are something which are used to do some kind of calculations. \n",
    "\n",
    "Here, a = 15*20 is an expression in which we are assigning a variable i.e. \"a\" to an expression which is \"15*20\"."
   ]
  },
  {
   "cell_type": "markdown",
   "metadata": {},
   "source": [
    "#### 5. This assignment statements, like spam = 10. What is the difference between an expression and a statement?"
   ]
  },
  {
   "cell_type": "raw",
   "metadata": {},
   "source": [
    "spam = 10,\n",
    "\n",
    "This is an assignment statement, here we are only assigning a value to the variable \"spam\".\n",
    "\n",
    "Whereas in an expression we do some kind of operation to get an end result, it uses operators and variables."
   ]
  },
  {
   "cell_type": "markdown",
   "metadata": {},
   "source": [
    "#### 6. After running the following code, what does the variable bacon contain?"
   ]
  },
  {
   "cell_type": "code",
   "execution_count": 1,
   "metadata": {},
   "outputs": [
    {
     "data": {
      "text/plain": [
       "23"
      ]
     },
     "execution_count": 1,
     "metadata": {},
     "output_type": "execute_result"
    }
   ],
   "source": [
    "bacon = 22\n",
    "bacon + 1\n",
    "\n",
    "# After running the above code the value of \"bacon\" will remain the same as before as we are only doing a calculation\n",
    "# and not assigning a new value to \"bacon\"."
   ]
  },
  {
   "cell_type": "markdown",
   "metadata": {},
   "source": [
    "#### 7. What should the values of the following two terms be?"
   ]
  },
  {
   "cell_type": "code",
   "execution_count": 4,
   "metadata": {},
   "outputs": [
    {
     "data": {
      "text/plain": [
       "'spamspamspam'"
      ]
     },
     "execution_count": 4,
     "metadata": {},
     "output_type": "execute_result"
    }
   ],
   "source": [
    "\"spam\" + \"spamspam\"\n",
    "\n",
    "# This will give the result as - \"spamspamspam\"\n",
    "\n",
    "\"spam\" * 3\n",
    "\n",
    "# This too will give the same result as above - \"spamspamspam\""
   ]
  },
  {
   "cell_type": "markdown",
   "metadata": {},
   "source": [
    "#### 8. Why is eggs a valid variable name while 100 is invalid?"
   ]
  },
  {
   "cell_type": "raw",
   "metadata": {},
   "source": [
    "In eggs we are giving a legit variable name whereas in 100, it is an integer which can`t be used to name a variable.\n",
    "\n",
    "Certain rules are followed to name the variable in python in which we can`t use numerics as variable name.\n",
    "\n",
    "And using, 100 = 200, will be illogical."
   ]
  },
  {
   "cell_type": "markdown",
   "metadata": {},
   "source": [
    "#### 9. What three functions can be used to get the integer, floating-point number, or string version of a value?"
   ]
  },
  {
   "cell_type": "raw",
   "metadata": {},
   "source": [
    "For, \n",
    "\n",
    "Integer - int()\n",
    "\n",
    "Floating point number - float()\n",
    "\n",
    "String - str()"
   ]
  },
  {
   "cell_type": "markdown",
   "metadata": {},
   "source": [
    "#### 10. Why does this expression cause an error? How can you fix it?\n",
    "\"I have eaten\" + 99 + \"burritos,\""
   ]
  },
  {
   "cell_type": "raw",
   "metadata": {},
   "source": [
    "In the above expression 99 is not casted as a string due to which it will give an error as strings and integers cannot be added.\n",
    "\n",
    "To fix this we have to use:\n",
    "\n",
    "\"I have eaten\" + \"99\" + \"burritos.\"\n",
    "\n",
    "Make 99 a string."
   ]
  }
 ],
 "metadata": {
  "kernelspec": {
   "display_name": "Python 3",
   "language": "python",
   "name": "python3"
  },
  "language_info": {
   "codemirror_mode": {
    "name": "ipython",
    "version": 3
   },
   "file_extension": ".py",
   "mimetype": "text/x-python",
   "name": "python",
   "nbconvert_exporter": "python",
   "pygments_lexer": "ipython3",
   "version": "3.7.4"
  }
 },
 "nbformat": 4,
 "nbformat_minor": 2
}
