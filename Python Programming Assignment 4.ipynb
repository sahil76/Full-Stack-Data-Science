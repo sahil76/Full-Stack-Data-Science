{
 "cells": [
  {
   "cell_type": "markdown",
   "metadata": {},
   "source": [
    "# Python Programming Assignment 4\n",
    "\n",
    "## Sahil Jindal\n",
    "\n",
    "## 09-01-2022"
   ]
  },
  {
   "cell_type": "markdown",
   "metadata": {},
   "source": [
    "#### 1. Write a Python Program to Find the Factorial of a Number?"
   ]
  },
  {
   "cell_type": "code",
   "execution_count": null,
   "metadata": {},
   "outputs": [],
   "source": [
    "num = int(input(\"Factorial of number:\"))\n",
    "res = 1\n",
    "for i in range(2,num+1):\n",
    "    if i > 1:\n",
    "        res = res*i"
   ]
  },
  {
   "cell_type": "code",
   "execution_count": null,
   "metadata": {},
   "outputs": [],
   "source": [
    "res"
   ]
  },
  {
   "cell_type": "markdown",
   "metadata": {},
   "source": [
    "#### 2. Write a Python Program to Display the multiplication Table?"
   ]
  },
  {
   "cell_type": "code",
   "execution_count": null,
   "metadata": {},
   "outputs": [],
   "source": [
    "t = int(input(\"Enter number for Multiplication Table:\"))\n",
    "\n",
    "for i in range(1,11):\n",
    "    print(i, \"x\", t, \"=\", i*t)"
   ]
  },
  {
   "cell_type": "markdown",
   "metadata": {},
   "source": [
    "#### 3. Write a Python Program to Print the Fibonacci sequence?"
   ]
  },
  {
   "cell_type": "code",
   "execution_count": null,
   "metadata": {},
   "outputs": [],
   "source": [
    "n = int(input(\"Enter a number for Fibonacci Sequence:\"))\n",
    "\n",
    "a = 0\n",
    "b = 1 \n",
    "\n",
    "output = []\n",
    "\n",
    "for i in range(n):\n",
    "    output.append(a)\n",
    "    a, b = b, a+b\n",
    "output"
   ]
  },
  {
   "cell_type": "markdown",
   "metadata": {},
   "source": [
    "#### 4. Write a Python Program to Check Armstrong Number?"
   ]
  },
  {
   "cell_type": "code",
   "execution_count": null,
   "metadata": {},
   "outputs": [],
   "source": [
    "k = int(input(\"Enter a number to check if it is Armstrong or not:\"))\n",
    "\n",
    "s = str(k)\n",
    "\n",
    "k1 = 0\n",
    "\n",
    "for i in s:\n",
    "    k1 += (int(i)**3)\n",
    "    \n",
    "if k1 == k:\n",
    "    print(\"Yes the number k is Armstrong number\", k)\n",
    "else:\n",
    "    print(\"No, the number is not Armstrong number\")"
   ]
  },
  {
   "cell_type": "markdown",
   "metadata": {},
   "source": [
    "#### 5. Write a Python Program to Find Armstrong Number in an Interval?"
   ]
  },
  {
   "cell_type": "code",
   "execution_count": null,
   "metadata": {},
   "outputs": [],
   "source": [
    "for i in range(0,100000):\n",
    "    k1 = 0\n",
    "    s = str(i)\n",
    "    for j in s:\n",
    "        k1 += (int(j)**3)\n",
    "        if k1 == i:\n",
    "            print(\"The number\", i, \"is Armstrong\")"
   ]
  },
  {
   "cell_type": "markdown",
   "metadata": {},
   "source": [
    "#### 6. Write a Python Program to Find the Sum of Natural Numbers?"
   ]
  },
  {
   "cell_type": "code",
   "execution_count": null,
   "metadata": {},
   "outputs": [],
   "source": [
    "n = int(input(\"Enter a number to find the sum of that much natural numbers:\"))\n",
    "n_sum = 0\n",
    "for i in range(n+1):\n",
    "    n_sum += i\n",
    "n_sum"
   ]
  },
  {
   "cell_type": "code",
   "execution_count": null,
   "metadata": {},
   "outputs": [],
   "source": []
  }
 ],
 "metadata": {
  "kernelspec": {
   "display_name": "Python 3",
   "language": "python",
   "name": "python3"
  },
  "language_info": {
   "codemirror_mode": {
    "name": "ipython",
    "version": 3
   },
   "file_extension": ".py",
   "mimetype": "text/x-python",
   "name": "python",
   "nbconvert_exporter": "python",
   "pygments_lexer": "ipython3",
   "version": "3.7.4"
  }
 },
 "nbformat": 4,
 "nbformat_minor": 2
}
