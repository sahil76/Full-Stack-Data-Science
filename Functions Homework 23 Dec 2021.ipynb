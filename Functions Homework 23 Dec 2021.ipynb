{
 "cells": [
  {
   "cell_type": "markdown",
   "metadata": {},
   "source": [
    "## Functions Homework 23 Dec 2021\n",
    "## By Sahil Jindal\n",
    "### jindalsahil798@gmail.com"
   ]
  },
  {
   "cell_type": "markdown",
   "metadata": {},
   "source": [
    "#### 1. Function which will take string and return length of it without using the inbuilt function len."
   ]
  },
  {
   "cell_type": "code",
   "execution_count": null,
   "metadata": {},
   "outputs": [],
   "source": [
    "def fun1(s):\n",
    "    count = 0\n",
    "    if type(s) == str:\n",
    "        for i in s:\n",
    "            count = count + 1\n",
    "    return count"
   ]
  },
  {
   "cell_type": "markdown",
   "metadata": {},
   "source": [
    "#### 2. Function which will be able to print an index of all primitive elements which are passed."
   ]
  },
  {
   "cell_type": "code",
   "execution_count": null,
   "metadata": {},
   "outputs": [],
   "source": [
    "def fun2(a):\n",
    "    ''' This is a function which will give the index of all the primitive elements passed as arguments'''\n",
    "    d = []\n",
    "    if type(a) == str:\n",
    "        for i in range(len(a)):\n",
    "            d.append(i)\n",
    "            print(\"Index of\", a[i], \"is\", i)\n",
    "    elif type(a) == list:\n",
    "        for i in range(len(a)):\n",
    "            d.append(i)\n",
    "            print(\"Index of\", a[i], \"is\", i)\n",
    "    elif type(a) == tuple:\n",
    "        for i in range(len(a)):\n",
    "            d.append(i)\n",
    "            print(\"Index of\", a[i], \"is\", i)\n",
    "    elif type(a) == dict:\n",
    "        for i in a:\n",
    "            d.append(i)\n",
    "            print(\"Index of key\", i, \"with value\", a[i])\n",
    "    else:\n",
    "        print(\"Please enter a string, list, tuple or a dictionary\")\n",
    "    return(d)"
   ]
  },
  {
   "cell_type": "markdown",
   "metadata": {},
   "source": [
    "#### 3. Function which will take input as a dictionary and give out a list of all the values, even in case of two level nesting."
   ]
  },
  {
   "cell_type": "code",
   "execution_count": null,
   "metadata": {},
   "outputs": [],
   "source": [
    "def fun3(d):\n",
    "    \n",
    "    ''' Function which will take input a dictionary and give out a list of all the values,\n",
    "            even in case of 2 level nesting'''\n",
    "    \n",
    "    out = []\n",
    "    if type(d) == dict:\n",
    "        for i in d:\n",
    "            if type(d[i]) == dict:\n",
    "                #print(d[i])\n",
    "                for j in d[i]:\n",
    "                    #print(type(j))\n",
    "                    out.append(d[i][j])\n",
    "            else:\n",
    "                out.append(d[i])\n",
    "    else:\n",
    "        print(\"Please enter a dictionary.\")\n",
    "    return out"
   ]
  },
  {
   "cell_type": "markdown",
   "metadata": {},
   "source": [
    "#### 4. A function which will take another function as an input and return an output"
   ]
  },
  {
   "cell_type": "code",
   "execution_count": null,
   "metadata": {},
   "outputs": [],
   "source": [
    "def fun12(inp1):\n",
    "    \n",
    "    ''' Function which gives the output as : \"Hi \"inp1\", '''\n",
    "    \n",
    "    if type(inp1) == str:\n",
    "        print('This is a String')\n",
    "    return \"Hi \" + inp1 + \", \"\n",
    "\n",
    "def fun22(inp2):\n",
    "    \n",
    "    ''' Function which will give output as \" \"inp2\" This is a function inside a function.\"'''\n",
    "    \n",
    "    if type(inp2) == str:\n",
    "        print(\"Function inside a function\")\n",
    "    return inp2 + \"This is a function inside a function.\""
   ]
  },
  {
   "cell_type": "markdown",
   "metadata": {},
   "source": [
    "#### 5. Function which will take list as a input and give concatenation of all the elements as an output"
   ]
  },
  {
   "cell_type": "code",
   "execution_count": null,
   "metadata": {},
   "outputs": [],
   "source": [
    "def fun5(k):\n",
    "    \n",
    "    '''Function which will take list as a input and give concatenation of all the elements as an output'''\n",
    "    m = \"\"\n",
    "    if type(k) == list:\n",
    "        for i in range(len(k)):\n",
    "            m += str(k[i])\n",
    "    else:\n",
    "        print(\"Please enter a list.\")\n",
    "    return m"
   ]
  },
  {
   "cell_type": "markdown",
   "metadata": {},
   "source": [
    "#### 6. Function which will take list as an input and return an index of all the elements like index function but even if we have repetitive element it will be able to give return its index."
   ]
  },
  {
   "cell_type": "code",
   "execution_count": null,
   "metadata": {},
   "outputs": [],
   "source": [
    "def fun6(f):\n",
    "    '''Function which will take list as an input and return an index of all the elements like index function \n",
    "        but even if we have repetitive element it will be able to give return its index.'''\n",
    "    \n",
    "    u = []\n",
    "    if type(f) == list:\n",
    "        for i in range(len(f)):\n",
    "            u.append(i)\n",
    "            print(\"Index of\", f[i], \"is \", i)\n",
    "    else:\n",
    "        print(\"Please enter a list only.\")\n",
    "    return u\n",
    "            \n",
    "        "
   ]
  },
  {
   "cell_type": "markdown",
   "metadata": {},
   "source": [
    "#### 7. Function which will take a directory path in the system and be able to give out a list of all the files in that path."
   ]
  },
  {
   "cell_type": "code",
   "execution_count": null,
   "metadata": {},
   "outputs": [],
   "source": [
    "def fun7(path):\n",
    "    \n",
    "    '''Function which will take a directory path in the system and be able \n",
    "            to give out a list of all the files in that path.'''\n",
    "    import os\n",
    "    \n",
    "    files_dir = []\n",
    "    \n",
    "    if type(path) == str:\n",
    "        files_dir = os.listdir(path)\n",
    "    else:\n",
    "        print(\"Please enter a legit path\")\n",
    "    return files_dir"
   ]
  },
  {
   "cell_type": "markdown",
   "metadata": {},
   "source": [
    "#### 8. Function which will be able to show the system configuration."
   ]
  },
  {
   "cell_type": "code",
   "execution_count": null,
   "metadata": {},
   "outputs": [],
   "source": [
    "def fun8_sysconfig():\n",
    "    '''Function which will be able to show the system configuration.'''\n",
    "    \n",
    "    import platform\n",
    "    \n",
    "    t = platform.uname()\n",
    "    \n",
    "    print(f\"System: {t.system}\")\n",
    "    print(f\"Node Name: {t.node}\")\n",
    "    print(f\"Release: {t.release}\")\n",
    "    print(f\"Version: {t.version}\")\n",
    "    print(f\"Machine: {t.machine}\")\n",
    "    print(f\"Processor: {t.processor}\")"
   ]
  },
  {
   "cell_type": "markdown",
   "metadata": {},
   "source": [
    "#### 9. Function which will be able to show date and time."
   ]
  },
  {
   "cell_type": "code",
   "execution_count": null,
   "metadata": {},
   "outputs": [],
   "source": [
    "def fun9():\n",
    "    '''Function which will be able to show date and time.'''\n",
    "    \n",
    "    import datetime\n",
    "    return print(datetime.datetime.now().strftime(\"%Y-%m-%d %H:%M:%S\"))\n",
    "    "
   ]
  },
  {
   "cell_type": "markdown",
   "metadata": {},
   "source": [
    "#### 10. Function which will be able to read an image file and open it."
   ]
  },
  {
   "cell_type": "code",
   "execution_count": null,
   "metadata": {},
   "outputs": [],
   "source": [
    "def fun10(image_path):\n",
    "    '''Function which will be able to read an image file and open it.'''\n",
    "    \n",
    "    from PIL import Image\n",
    "\n",
    "    im = Image.open(image_path)\n",
    "\n",
    "    return im.show()"
   ]
  },
  {
   "cell_type": "markdown",
   "metadata": {},
   "source": [
    "#### 11. Function which will read video file and play the same."
   ]
  },
  {
   "cell_type": "code",
   "execution_count": null,
   "metadata": {},
   "outputs": [],
   "source": [
    "def fun11(video_path):\n",
    "    \n",
    "    '''Function which will read a mp4 video file and play the same.'''\n",
    "    \n",
    "    from os import startfile\n",
    "    \n",
    "    startfile(video_path)\n",
    "    "
   ]
  },
  {
   "cell_type": "markdown",
   "metadata": {},
   "source": [
    "#### 12. Function which can move a file from one directory to another directory."
   ]
  },
  {
   "cell_type": "code",
   "execution_count": null,
   "metadata": {},
   "outputs": [],
   "source": [
    "def fun12(file_path, new_dir):\n",
    "    '''Function which can move a file from one directory to another directory.'''\n",
    "    \n",
    "    import shutil\n",
    "    \n",
    "    shutil.move(file_path, new_dir)"
   ]
  },
  {
   "cell_type": "markdown",
   "metadata": {},
   "source": [
    "#### 13. Function to shut down the system."
   ]
  },
  {
   "cell_type": "code",
   "execution_count": null,
   "metadata": {},
   "outputs": [],
   "source": [
    "def fun13():\n",
    "    \n",
    "    '''Function to shut down the system.'''\n",
    "    \n",
    "    import os \n",
    "    \n",
    "    shutdown = input(\"Do you want to shutdown your system? (Yes/No):\")\n",
    "    \n",
    "    if shutdown == \"No\":\n",
    "        pass\n",
    "    else:\n",
    "        os.system(\"shutdown /s /t 1\")\n",
    "    "
   ]
  },
  {
   "cell_type": "markdown",
   "metadata": {},
   "source": [
    "#### 17. Function to read a Word Document"
   ]
  },
  {
   "cell_type": "code",
   "execution_count": null,
   "metadata": {},
   "outputs": [],
   "source": [
    "def fun17(doc_path):\n",
    "    '''Function to read a Word Document'''\n",
    "    \n",
    "    import docx\n",
    "    \n",
    "    read_doc = docx.Document(doc_path)\n",
    "    fulltxt = []\n",
    "    for i in read_doc.paragraphs:\n",
    "        fulltxt.append(i.text)\n",
    "\n",
    "    return '\\n'.join(fulltxt).replace(\"\\n\",\"\").replace(\"\\t\",\"\")\n",
    "\n"
   ]
  },
  {
   "cell_type": "markdown",
   "metadata": {},
   "source": [
    "#### 18. Function to filter word files from a directory."
   ]
  },
  {
   "cell_type": "code",
   "execution_count": null,
   "metadata": {},
   "outputs": [],
   "source": [
    "def fun18(path_dir):\n",
    "    '''Function to filter word files from a directory.'''\n",
    "    \n",
    "    import os\n",
    "    l1 = os.listdir(path_dir)\n",
    "    \n",
    "    doc_files = []\n",
    "    for i in l1:\n",
    "        if i.endswith(\".doc\") or i.endswith(\".docx\"):\n",
    "            doc_files.append(i)\n",
    "            \n",
    "    return doc_files"
   ]
  },
  {
   "cell_type": "markdown",
   "metadata": {},
   "source": [
    "#### 19. Function to print IP Address of the system"
   ]
  },
  {
   "cell_type": "code",
   "execution_count": null,
   "metadata": {},
   "outputs": [],
   "source": [
    "def fun19():\n",
    "    '''Function to print IP Address of the system'''\n",
    "    \n",
    "    import socket\n",
    "    hostname = socket.gethostname()\n",
    "    Ipadd = socket.gethostbyname(hostname)\n",
    "    \n",
    "    print(\"Computer Name is:\" + hostname)\n",
    "    print(\"IP address is:\" + Ipadd)"
   ]
  },
  {
   "cell_type": "code",
   "execution_count": null,
   "metadata": {},
   "outputs": [],
   "source": [
    "# Not able to do questions 14, 15 and 20"
   ]
  }
 ],
 "metadata": {
  "kernelspec": {
   "display_name": "Python 3",
   "language": "python",
   "name": "python3"
  },
  "language_info": {
   "codemirror_mode": {
    "name": "ipython",
    "version": 3
   },
   "file_extension": ".py",
   "mimetype": "text/x-python",
   "name": "python",
   "nbconvert_exporter": "python",
   "pygments_lexer": "ipython3",
   "version": "3.7.4"
  }
 },
 "nbformat": 4,
 "nbformat_minor": 2
}
