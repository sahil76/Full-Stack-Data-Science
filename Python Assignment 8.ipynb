{
 "cells": [
  {
   "cell_type": "markdown",
   "id": "15c6515f",
   "metadata": {},
   "source": [
    "## Python Assignment 8\n",
    "\n",
    "### 18 Feb 2022"
   ]
  },
  {
   "cell_type": "markdown",
   "id": "e2ea877c",
   "metadata": {},
   "source": [
    "### 1. Is the Python Standard Library included with PyInputPlus?"
   ]
  },
  {
   "cell_type": "raw",
   "id": "6b6d6485",
   "metadata": {},
   "source": [
    "PyInputPlus is a python module used for taking inputs with additional validation features.\n",
    "This module when used will keep asking the user for text until they enter valid input.\n",
    "\n",
    "The python standard library does not include this module as we have to seperately download this."
   ]
  },
  {
   "cell_type": "markdown",
   "id": "d635fb40",
   "metadata": {},
   "source": [
    "### 2. Why is PyInputPlus commonly imported with import pyinputplus as pypi?"
   ]
  },
  {
   "cell_type": "raw",
   "id": "a003cade",
   "metadata": {},
   "source": [
    "This is just a alias name which we use to import this.\n",
    "As it will provide some easy usage of the functions available in this module."
   ]
  },
  {
   "cell_type": "markdown",
   "id": "9935d6e0",
   "metadata": {},
   "source": [
    "### 3. How do you distinguish between inputInt() and inputFloat()?"
   ]
  },
  {
   "cell_type": "raw",
   "id": "7fdc4a0a",
   "metadata": {},
   "source": [
    "-> inputInt() : \n",
    "    - This function accepts an integer value. \n",
    "    - If any non-integer input is passed, the function retries until a valid input is given, time runs out or maximum number of tries exceed.\n",
    "    - The default parameter is used to set the default value if time runs out or the number of tries exceed.\n",
    "    \n",
    "-> inputFloat() :\n",
    "    - This function accepts a floating point numeric value.\n",
    "    - The basic difference is this only and all the other parameters are same as above."
   ]
  },
  {
   "cell_type": "markdown",
   "id": "56030e94",
   "metadata": {},
   "source": [
    "### 4. Using PyInputPlus, how do you ensure that the user enters a whole number between 0 and 99?"
   ]
  },
  {
   "cell_type": "raw",
   "id": "643ea95a",
   "metadata": {},
   "source": [
    "To ensure that the user enters a whole number between 0 and 99 we can use:\n",
    "\n",
    "import pyinputplus as pyip\n",
    "\n",
    "inp = pyip.inputInt(promt = \"Enter a whole number between 0 and 99: \",\n",
    "                    default = 0,\n",
    "                    min = 0,\n",
    "                    max = 0,\n",
    "                    limit = 5)"
   ]
  },
  {
   "cell_type": "markdown",
   "id": "0dac8637",
   "metadata": {},
   "source": [
    "### 5. What is transferred to the keyword arguments allowRegexes and blockRegexes?"
   ]
  },
  {
   "cell_type": "raw",
   "id": "9478bed2",
   "metadata": {},
   "source": [
    "We can use regular expressions to specify whether an input is allowed ot not. \n",
    "\n",
    "While using pyinputplus we can use allowRegexes and blockRegexes, these will take a list of regular expressions strings to determine what the PyInputPlus function will accept or reject as valid input.\n",
    "\n",
    "Example for allowRegexes,\n",
    "\n",
    "res = pyip.inputNum(allowRegexes = [r'(I|V|X|L|C|D|M)+', r'zero'])\n",
    "\n",
    "We can also specify a list of regular expression strings that a PyInputPlus function won`t accept by using the blockRegexes keyword argument.\n",
    "\n",
    "Example for blockRegexes,\n",
    "\n",
    "re2 = pyip.inputNum(blockRegexes=[r'[02468]$'])"
   ]
  },
  {
   "cell_type": "markdown",
   "id": "e550b521",
   "metadata": {},
   "source": [
    "### 6. If a blank input is entered three times, what does inputStr(limit=3) do?"
   ]
  },
  {
   "cell_type": "raw",
   "id": "2792fc1d",
   "metadata": {},
   "source": [
    "If a blank input is entered three times, then inputStr(limit = 3) will give us an error as the limit to provide a valid input has exhausted."
   ]
  },
  {
   "cell_type": "markdown",
   "id": "d432b081",
   "metadata": {},
   "source": [
    "### 7. If blank input is entered three times, what does inputStr(limit=3, default=&#39;hello&#39;) do?"
   ]
  },
  {
   "cell_type": "raw",
   "id": "996d8d31",
   "metadata": {},
   "source": [
    "If a blank input is entered 3 times, then the above code will provide the input as 'hello' as here we have already defined the default value."
   ]
  }
 ],
 "metadata": {
  "kernelspec": {
   "display_name": "Python 3",
   "language": "python",
   "name": "python3"
  },
  "language_info": {
   "codemirror_mode": {
    "name": "ipython",
    "version": 3
   },
   "file_extension": ".py",
   "mimetype": "text/x-python",
   "name": "python",
   "nbconvert_exporter": "python",
   "pygments_lexer": "ipython3",
   "version": "3.7.4"
  }
 },
 "nbformat": 4,
 "nbformat_minor": 5
}
