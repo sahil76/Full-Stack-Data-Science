{
 "cells": [
  {
   "cell_type": "markdown",
   "id": "2142246d",
   "metadata": {},
   "source": [
    "## Python Basic Assignment 5\n",
    "\n",
    "### 11 Feb 2022"
   ]
  },
  {
   "cell_type": "markdown",
   "id": "4f7c56dc",
   "metadata": {},
   "source": [
    "### 1. What does an empty dictionary&#39;s code look like?"
   ]
  },
  {
   "cell_type": "raw",
   "id": "0984e134",
   "metadata": {},
   "source": [
    "Empty dictionary code -> {}"
   ]
  },
  {
   "cell_type": "markdown",
   "id": "6b128a59",
   "metadata": {},
   "source": [
    "### 2. What is the value of a dictionary value with the key &#39;foo&#39; and the value 42?"
   ]
  },
  {
   "cell_type": "raw",
   "id": "b9a47038",
   "metadata": {},
   "source": [
    "The value of a dictionary value with key 'foo' and value 42 is 42.\n",
    "If we call dict.values() the output will be dict_values([42]) where dict is : {'foo' : 42}"
   ]
  },
  {
   "cell_type": "markdown",
   "id": "cf14405a",
   "metadata": {},
   "source": [
    "### 3. What is the most significant distinction between a dictionary and a list?"
   ]
  },
  {
   "cell_type": "raw",
   "id": "4bca0ead",
   "metadata": {},
   "source": [
    "The most significant distinction between a dictionary and a list is that in a dictionary we provide an index along with the values of a dictionary known as a key, but in a list we just enter the elements with particularly specifying the keys or indexes."
   ]
  },
  {
   "cell_type": "markdown",
   "id": "fc8b15b3",
   "metadata": {},
   "source": [
    "### 4. What happens if you try to access spam[&#39;foo&#39;] if spam is {&#39;bar&#39;: 100}?"
   ]
  },
  {
   "cell_type": "raw",
   "id": "bebea9be",
   "metadata": {},
   "source": [
    "If we have not specified a particular key and call that from the entered dictionary, then we will got an error as that key is not created."
   ]
  },
  {
   "cell_type": "markdown",
   "id": "357f3bf3",
   "metadata": {},
   "source": [
    "### 5. If a dictionary is stored in spam, what is the difference between the expressions &#39;cat&#39; in spam and &#39;cat&#39; in spam.keys()?"
   ]
  },
  {
   "cell_type": "raw",
   "id": "363ce984",
   "metadata": {},
   "source": [
    "'cat' in spam can indicate to both a key or a value as:\n",
    "\n",
    "if, spam = {'cat' : 45, 'bat' : 'cat'}\n",
    "\n",
    "but if we call spam.keys(), this will give us all the keys entered in the dictionary spam, like in the above example : \n",
    "\n",
    "> spam.keys()\n",
    "> dict_keys(['cat', 'bat'])"
   ]
  },
  {
   "cell_type": "markdown",
   "id": "c26e2845",
   "metadata": {},
   "source": [
    "### 7. What is a shortcut for the following code?\n",
    "### if &#39;color&#39; not in spam:\n",
    "### spam[&#39;color&#39;] = &#39;black&#39;"
   ]
  },
  {
   "cell_type": "raw",
   "id": "9c06bef7",
   "metadata": {},
   "source": [
    "The shortcut to the above code is:\n",
    "\n",
    "spam['color'] = 'black'"
   ]
  },
  {
   "cell_type": "markdown",
   "id": "0604410f",
   "metadata": {},
   "source": [
    "### 8. How do you &quot;pretty print&quot; dictionary values using which module and function?"
   ]
  },
  {
   "cell_type": "raw",
   "id": "470b308a",
   "metadata": {},
   "source": [
    "For printing the values of a dictionary we can use the inbuilt modules in the data type dictionary:\n",
    "\n",
    "dict.values()\n",
    "\n",
    "This above expression will give us the desired results."
   ]
  }
 ],
 "metadata": {
  "kernelspec": {
   "display_name": "Python 3",
   "language": "python",
   "name": "python3"
  },
  "language_info": {
   "codemirror_mode": {
    "name": "ipython",
    "version": 3
   },
   "file_extension": ".py",
   "mimetype": "text/x-python",
   "name": "python",
   "nbconvert_exporter": "python",
   "pygments_lexer": "ipython3",
   "version": "3.7.4"
  }
 },
 "nbformat": 4,
 "nbformat_minor": 5
}
